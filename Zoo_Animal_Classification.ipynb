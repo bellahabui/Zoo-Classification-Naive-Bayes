{
  "nbformat": 4,
  "nbformat_minor": 0,
  "metadata": {
    "colab": {
      "name": "Zoo Animal Classification.ipynb",
      "provenance": [],
      "collapsed_sections": []
    },
    "kernelspec": {
      "name": "python3",
      "display_name": "Python 3"
    }
  },
  "cells": [
    {
      "cell_type": "markdown",
      "metadata": {
        "id": "rMyolWA9tq3I",
        "colab_type": "text"
      },
      "source": [
        "We will begin with a few imports that we would need while implementing Naive Bayes"
      ]
    },
    {
      "cell_type": "code",
      "metadata": {
        "id": "OeaA11r6xRSa",
        "colab_type": "code",
        "colab": {}
      },
      "source": [
        "import pandas as pd \n",
        "import numpy as np \n",
        "from collections import defaultdict\n",
        "import re\n",
        "import io\n",
        "import random"
      ],
      "execution_count": 0,
      "outputs": []
    },
    {
      "cell_type": "markdown",
      "metadata": {
        "id": "tKnBzL1xuH3t",
        "colab_type": "text"
      },
      "source": [
        "#Step 1 Collecting Data\n",
        "The data set of Zoo Animal Classification using Naive Bayes. The dataset can be downloaded from https://archive.ics.uci.edu/ml/datasets/Zoo"
      ]
    },
    {
      "cell_type": "markdown",
      "metadata": {
        "id": "yqjCqMDdu79N",
        "colab_type": "text"
      },
      "source": [
        "#Step 2 Exploring and preparing the data"
      ]
    },
    {
      "cell_type": "markdown",
      "metadata": {
        "id": "tq3Nqv878UMW",
        "colab_type": "text"
      },
      "source": [
        "## Data Preparation"
      ]
    },
    {
      "cell_type": "code",
      "metadata": {
        "id": "iblURlBmvBXc",
        "colab_type": "code",
        "outputId": "48b45a1c-b635-4588-d377-cef985dac382",
        "colab": {
          "base_uri": "https://localhost:8080/",
          "height": 122
        }
      },
      "source": [
        "from google.colab import drive\n",
        "drive.mount('/content/gdrive')"
      ],
      "execution_count": 0,
      "outputs": [
        {
          "output_type": "stream",
          "text": [
            "Go to this URL in a browser: https://accounts.google.com/o/oauth2/auth?client_id=947318989803-6bn6qk8qdgf4n4g3pfee6491hc0brc4i.apps.googleusercontent.com&redirect_uri=urn%3aietf%3awg%3aoauth%3a2.0%3aoob&response_type=code&scope=email%20https%3a%2f%2fwww.googleapis.com%2fauth%2fdocs.test%20https%3a%2f%2fwww.googleapis.com%2fauth%2fdrive%20https%3a%2f%2fwww.googleapis.com%2fauth%2fdrive.photos.readonly%20https%3a%2f%2fwww.googleapis.com%2fauth%2fpeopleapi.readonly\n",
            "\n",
            "Enter your authorization code:\n",
            "··········\n",
            "Mounted at /content/gdrive\n"
          ],
          "name": "stdout"
        }
      ]
    },
    {
      "cell_type": "code",
      "metadata": {
        "id": "xe7pEUTPvLoi",
        "colab_type": "code",
        "outputId": "0c6b79ff-1a29-4649-d4b7-1701f37f852d",
        "colab": {
          "base_uri": "https://localhost:8080/",
          "height": 419
        }
      },
      "source": [
        "df = 'gdrive/My Drive/ALY_6020/zoo.csv'\n",
        "\n",
        "col_names = ['animal name', 'hair', 'feathers', 'eggs', 'milk', 'airborne', \n",
        "               'aquatic', 'predator', 'toothed', 'backbone', 'breathes', \n",
        "               'venomous', 'fins', 'legs', 'tail', 'domestic', 'catsize', 'type']\n",
        "zoo_df = pd.read_csv(df, names=col_names)\n",
        "zoo_df"
      ],
      "execution_count": 0,
      "outputs": [
        {
          "output_type": "execute_result",
          "data": {
            "text/html": [
              "<div>\n",
              "<style scoped>\n",
              "    .dataframe tbody tr th:only-of-type {\n",
              "        vertical-align: middle;\n",
              "    }\n",
              "\n",
              "    .dataframe tbody tr th {\n",
              "        vertical-align: top;\n",
              "    }\n",
              "\n",
              "    .dataframe thead th {\n",
              "        text-align: right;\n",
              "    }\n",
              "</style>\n",
              "<table border=\"1\" class=\"dataframe\">\n",
              "  <thead>\n",
              "    <tr style=\"text-align: right;\">\n",
              "      <th></th>\n",
              "      <th>animal name</th>\n",
              "      <th>hair</th>\n",
              "      <th>feathers</th>\n",
              "      <th>eggs</th>\n",
              "      <th>milk</th>\n",
              "      <th>airborne</th>\n",
              "      <th>aquatic</th>\n",
              "      <th>predator</th>\n",
              "      <th>toothed</th>\n",
              "      <th>backbone</th>\n",
              "      <th>breathes</th>\n",
              "      <th>venomous</th>\n",
              "      <th>fins</th>\n",
              "      <th>legs</th>\n",
              "      <th>tail</th>\n",
              "      <th>domestic</th>\n",
              "      <th>catsize</th>\n",
              "      <th>type</th>\n",
              "    </tr>\n",
              "  </thead>\n",
              "  <tbody>\n",
              "    <tr>\n",
              "      <th>0</th>\n",
              "      <td>aardvark</td>\n",
              "      <td>1</td>\n",
              "      <td>0</td>\n",
              "      <td>0</td>\n",
              "      <td>1</td>\n",
              "      <td>0</td>\n",
              "      <td>0</td>\n",
              "      <td>1</td>\n",
              "      <td>1</td>\n",
              "      <td>1</td>\n",
              "      <td>1</td>\n",
              "      <td>0</td>\n",
              "      <td>0</td>\n",
              "      <td>4</td>\n",
              "      <td>0</td>\n",
              "      <td>0</td>\n",
              "      <td>1</td>\n",
              "      <td>1</td>\n",
              "    </tr>\n",
              "    <tr>\n",
              "      <th>1</th>\n",
              "      <td>antelope</td>\n",
              "      <td>1</td>\n",
              "      <td>0</td>\n",
              "      <td>0</td>\n",
              "      <td>1</td>\n",
              "      <td>0</td>\n",
              "      <td>0</td>\n",
              "      <td>0</td>\n",
              "      <td>1</td>\n",
              "      <td>1</td>\n",
              "      <td>1</td>\n",
              "      <td>0</td>\n",
              "      <td>0</td>\n",
              "      <td>4</td>\n",
              "      <td>1</td>\n",
              "      <td>0</td>\n",
              "      <td>1</td>\n",
              "      <td>1</td>\n",
              "    </tr>\n",
              "    <tr>\n",
              "      <th>2</th>\n",
              "      <td>bass</td>\n",
              "      <td>0</td>\n",
              "      <td>0</td>\n",
              "      <td>1</td>\n",
              "      <td>0</td>\n",
              "      <td>0</td>\n",
              "      <td>1</td>\n",
              "      <td>1</td>\n",
              "      <td>1</td>\n",
              "      <td>1</td>\n",
              "      <td>0</td>\n",
              "      <td>0</td>\n",
              "      <td>1</td>\n",
              "      <td>0</td>\n",
              "      <td>1</td>\n",
              "      <td>0</td>\n",
              "      <td>0</td>\n",
              "      <td>4</td>\n",
              "    </tr>\n",
              "    <tr>\n",
              "      <th>3</th>\n",
              "      <td>bear</td>\n",
              "      <td>1</td>\n",
              "      <td>0</td>\n",
              "      <td>0</td>\n",
              "      <td>1</td>\n",
              "      <td>0</td>\n",
              "      <td>0</td>\n",
              "      <td>1</td>\n",
              "      <td>1</td>\n",
              "      <td>1</td>\n",
              "      <td>1</td>\n",
              "      <td>0</td>\n",
              "      <td>0</td>\n",
              "      <td>4</td>\n",
              "      <td>0</td>\n",
              "      <td>0</td>\n",
              "      <td>1</td>\n",
              "      <td>1</td>\n",
              "    </tr>\n",
              "    <tr>\n",
              "      <th>4</th>\n",
              "      <td>boar</td>\n",
              "      <td>1</td>\n",
              "      <td>0</td>\n",
              "      <td>0</td>\n",
              "      <td>1</td>\n",
              "      <td>0</td>\n",
              "      <td>0</td>\n",
              "      <td>1</td>\n",
              "      <td>1</td>\n",
              "      <td>1</td>\n",
              "      <td>1</td>\n",
              "      <td>0</td>\n",
              "      <td>0</td>\n",
              "      <td>4</td>\n",
              "      <td>1</td>\n",
              "      <td>0</td>\n",
              "      <td>1</td>\n",
              "      <td>1</td>\n",
              "    </tr>\n",
              "    <tr>\n",
              "      <th>...</th>\n",
              "      <td>...</td>\n",
              "      <td>...</td>\n",
              "      <td>...</td>\n",
              "      <td>...</td>\n",
              "      <td>...</td>\n",
              "      <td>...</td>\n",
              "      <td>...</td>\n",
              "      <td>...</td>\n",
              "      <td>...</td>\n",
              "      <td>...</td>\n",
              "      <td>...</td>\n",
              "      <td>...</td>\n",
              "      <td>...</td>\n",
              "      <td>...</td>\n",
              "      <td>...</td>\n",
              "      <td>...</td>\n",
              "      <td>...</td>\n",
              "      <td>...</td>\n",
              "    </tr>\n",
              "    <tr>\n",
              "      <th>96</th>\n",
              "      <td>wallaby</td>\n",
              "      <td>1</td>\n",
              "      <td>0</td>\n",
              "      <td>0</td>\n",
              "      <td>1</td>\n",
              "      <td>0</td>\n",
              "      <td>0</td>\n",
              "      <td>0</td>\n",
              "      <td>1</td>\n",
              "      <td>1</td>\n",
              "      <td>1</td>\n",
              "      <td>0</td>\n",
              "      <td>0</td>\n",
              "      <td>2</td>\n",
              "      <td>1</td>\n",
              "      <td>0</td>\n",
              "      <td>1</td>\n",
              "      <td>1</td>\n",
              "    </tr>\n",
              "    <tr>\n",
              "      <th>97</th>\n",
              "      <td>wasp</td>\n",
              "      <td>1</td>\n",
              "      <td>0</td>\n",
              "      <td>1</td>\n",
              "      <td>0</td>\n",
              "      <td>1</td>\n",
              "      <td>0</td>\n",
              "      <td>0</td>\n",
              "      <td>0</td>\n",
              "      <td>0</td>\n",
              "      <td>1</td>\n",
              "      <td>1</td>\n",
              "      <td>0</td>\n",
              "      <td>6</td>\n",
              "      <td>0</td>\n",
              "      <td>0</td>\n",
              "      <td>0</td>\n",
              "      <td>6</td>\n",
              "    </tr>\n",
              "    <tr>\n",
              "      <th>98</th>\n",
              "      <td>wolf</td>\n",
              "      <td>1</td>\n",
              "      <td>0</td>\n",
              "      <td>0</td>\n",
              "      <td>1</td>\n",
              "      <td>0</td>\n",
              "      <td>0</td>\n",
              "      <td>1</td>\n",
              "      <td>1</td>\n",
              "      <td>1</td>\n",
              "      <td>1</td>\n",
              "      <td>0</td>\n",
              "      <td>0</td>\n",
              "      <td>4</td>\n",
              "      <td>1</td>\n",
              "      <td>0</td>\n",
              "      <td>1</td>\n",
              "      <td>1</td>\n",
              "    </tr>\n",
              "    <tr>\n",
              "      <th>99</th>\n",
              "      <td>worm</td>\n",
              "      <td>0</td>\n",
              "      <td>0</td>\n",
              "      <td>1</td>\n",
              "      <td>0</td>\n",
              "      <td>0</td>\n",
              "      <td>0</td>\n",
              "      <td>0</td>\n",
              "      <td>0</td>\n",
              "      <td>0</td>\n",
              "      <td>1</td>\n",
              "      <td>0</td>\n",
              "      <td>0</td>\n",
              "      <td>0</td>\n",
              "      <td>0</td>\n",
              "      <td>0</td>\n",
              "      <td>0</td>\n",
              "      <td>7</td>\n",
              "    </tr>\n",
              "    <tr>\n",
              "      <th>100</th>\n",
              "      <td>wren</td>\n",
              "      <td>0</td>\n",
              "      <td>1</td>\n",
              "      <td>1</td>\n",
              "      <td>0</td>\n",
              "      <td>1</td>\n",
              "      <td>0</td>\n",
              "      <td>0</td>\n",
              "      <td>0</td>\n",
              "      <td>1</td>\n",
              "      <td>1</td>\n",
              "      <td>0</td>\n",
              "      <td>0</td>\n",
              "      <td>2</td>\n",
              "      <td>1</td>\n",
              "      <td>0</td>\n",
              "      <td>0</td>\n",
              "      <td>2</td>\n",
              "    </tr>\n",
              "  </tbody>\n",
              "</table>\n",
              "<p>101 rows × 18 columns</p>\n",
              "</div>"
            ],
            "text/plain": [
              "    animal name  hair  feathers  eggs  ...  tail  domestic  catsize  type\n",
              "0      aardvark     1         0     0  ...     0         0        1     1\n",
              "1      antelope     1         0     0  ...     1         0        1     1\n",
              "2          bass     0         0     1  ...     1         0        0     4\n",
              "3          bear     1         0     0  ...     0         0        1     1\n",
              "4          boar     1         0     0  ...     1         0        1     1\n",
              "..          ...   ...       ...   ...  ...   ...       ...      ...   ...\n",
              "96      wallaby     1         0     0  ...     1         0        1     1\n",
              "97         wasp     1         0     1  ...     0         0        0     6\n",
              "98         wolf     1         0     0  ...     1         0        1     1\n",
              "99         worm     0         0     1  ...     0         0        0     7\n",
              "100        wren     0         1     1  ...     1         0        0     2\n",
              "\n",
              "[101 rows x 18 columns]"
            ]
          },
          "metadata": {
            "tags": []
          },
          "execution_count": 6
        }
      ]
    },
    {
      "cell_type": "code",
      "metadata": {
        "id": "OqHe1tviFcUA",
        "colab_type": "code",
        "colab": {}
      },
      "source": [
        "\"\"\"\n",
        "Convert leg attributes from [0,2,4,5,6,8] to 0-5\n",
        "\"\"\"\n",
        "def convert_legs_value(v):\n",
        "  value_list = [0, 2, 4, 5, 6, 8]\n",
        "  convert_list = [0, 1, 2, 3, 4, 5]\n",
        "  return convert_list[value_list.index(v)]\n",
        "\n",
        "zoo_df['legs'] = zoo_df['legs'].apply(convert_legs_value)\n",
        "zoo_df"
      ],
      "execution_count": 0,
      "outputs": []
    },
    {
      "cell_type": "code",
      "metadata": {
        "id": "Wn2V2Gs6Gyqp",
        "colab_type": "code",
        "outputId": "7f026eba-c87c-43be-ce34-a47dbe22a2ee",
        "colab": {
          "base_uri": "https://localhost:8080/",
          "height": 1000
        }
      },
      "source": [
        "zoo_data = zoo_df.drop('animal name', 1).values.tolist()\n",
        "zoo_data"
      ],
      "execution_count": 0,
      "outputs": [
        {
          "output_type": "execute_result",
          "data": {
            "text/plain": [
              "[[1, 0, 0, 1, 0, 0, 1, 1, 1, 1, 0, 0, 2, 0, 0, 1, 1],\n",
              " [1, 0, 0, 1, 0, 0, 0, 1, 1, 1, 0, 0, 2, 1, 0, 1, 1],\n",
              " [0, 0, 1, 0, 0, 1, 1, 1, 1, 0, 0, 1, 0, 1, 0, 0, 4],\n",
              " [1, 0, 0, 1, 0, 0, 1, 1, 1, 1, 0, 0, 2, 0, 0, 1, 1],\n",
              " [1, 0, 0, 1, 0, 0, 1, 1, 1, 1, 0, 0, 2, 1, 0, 1, 1],\n",
              " [1, 0, 0, 1, 0, 0, 0, 1, 1, 1, 0, 0, 2, 1, 0, 1, 1],\n",
              " [1, 0, 0, 1, 0, 0, 0, 1, 1, 1, 0, 0, 2, 1, 1, 1, 1],\n",
              " [0, 0, 1, 0, 0, 1, 0, 1, 1, 0, 0, 1, 0, 1, 1, 0, 4],\n",
              " [0, 0, 1, 0, 0, 1, 1, 1, 1, 0, 0, 1, 0, 1, 0, 0, 4],\n",
              " [1, 0, 0, 1, 0, 0, 0, 1, 1, 1, 0, 0, 2, 0, 1, 0, 1],\n",
              " [1, 0, 0, 1, 0, 0, 1, 1, 1, 1, 0, 0, 2, 1, 0, 1, 1],\n",
              " [0, 1, 1, 0, 1, 0, 0, 0, 1, 1, 0, 0, 1, 1, 1, 0, 2],\n",
              " [0, 0, 1, 0, 0, 1, 1, 1, 1, 0, 0, 1, 0, 1, 0, 0, 4],\n",
              " [0, 0, 1, 0, 0, 0, 1, 0, 0, 0, 0, 0, 0, 0, 0, 0, 7],\n",
              " [0, 0, 1, 0, 0, 1, 1, 0, 0, 0, 0, 0, 2, 0, 0, 0, 7],\n",
              " [0, 0, 1, 0, 0, 1, 1, 0, 0, 0, 0, 0, 4, 0, 0, 0, 7],\n",
              " [0, 1, 1, 0, 1, 0, 1, 0, 1, 1, 0, 0, 1, 1, 0, 0, 2],\n",
              " [1, 0, 0, 1, 0, 0, 0, 1, 1, 1, 0, 0, 2, 1, 0, 1, 1],\n",
              " [0, 0, 1, 0, 0, 1, 1, 1, 1, 0, 0, 1, 0, 1, 0, 1, 4],\n",
              " [0, 0, 0, 1, 0, 1, 1, 1, 1, 1, 0, 1, 0, 1, 0, 1, 1],\n",
              " [0, 1, 1, 0, 1, 0, 0, 0, 1, 1, 0, 0, 1, 1, 1, 0, 2],\n",
              " [0, 1, 1, 0, 1, 1, 0, 0, 1, 1, 0, 0, 1, 1, 0, 0, 2],\n",
              " [1, 0, 0, 1, 0, 0, 0, 1, 1, 1, 0, 0, 2, 1, 0, 1, 1],\n",
              " [0, 1, 1, 0, 1, 0, 0, 0, 1, 1, 0, 0, 1, 1, 0, 1, 2],\n",
              " [0, 0, 1, 0, 0, 0, 0, 0, 0, 1, 0, 0, 4, 0, 0, 0, 6],\n",
              " [0, 0, 1, 0, 0, 1, 1, 1, 1, 1, 0, 0, 2, 0, 0, 0, 5],\n",
              " [0, 0, 1, 0, 0, 1, 1, 1, 1, 1, 1, 0, 2, 0, 0, 0, 5],\n",
              " [1, 0, 0, 1, 1, 0, 0, 1, 1, 1, 0, 0, 1, 1, 0, 0, 1],\n",
              " [1, 0, 0, 1, 0, 0, 0, 1, 1, 1, 0, 0, 2, 1, 0, 1, 1],\n",
              " [1, 0, 0, 1, 0, 0, 1, 1, 1, 1, 0, 0, 1, 0, 1, 1, 1],\n",
              " [0, 0, 1, 0, 1, 0, 0, 0, 0, 1, 0, 0, 4, 0, 0, 0, 6],\n",
              " [1, 0, 0, 1, 0, 0, 0, 1, 1, 1, 0, 0, 2, 1, 1, 1, 1],\n",
              " [1, 0, 0, 1, 0, 0, 0, 1, 1, 1, 0, 0, 1, 0, 0, 1, 1],\n",
              " [0, 1, 1, 0, 1, 1, 1, 0, 1, 1, 0, 0, 1, 1, 0, 0, 2],\n",
              " [0, 0, 1, 0, 0, 1, 0, 1, 1, 0, 0, 1, 0, 1, 0, 0, 4],\n",
              " [1, 0, 0, 1, 0, 0, 0, 1, 1, 1, 0, 0, 2, 1, 1, 0, 1],\n",
              " [1, 0, 0, 1, 0, 0, 0, 1, 1, 1, 0, 0, 2, 1, 0, 0, 1],\n",
              " [0, 1, 1, 0, 1, 0, 1, 0, 1, 1, 0, 0, 1, 1, 0, 0, 2],\n",
              " [0, 0, 1, 0, 0, 1, 1, 1, 1, 0, 0, 1, 0, 1, 0, 0, 4],\n",
              " [1, 0, 1, 0, 1, 0, 0, 0, 0, 1, 1, 0, 4, 0, 1, 0, 6],\n",
              " [1, 0, 1, 0, 1, 0, 0, 0, 0, 1, 0, 0, 4, 0, 0, 0, 6],\n",
              " [0, 1, 1, 0, 0, 0, 1, 0, 1, 1, 0, 0, 1, 1, 0, 0, 2],\n",
              " [0, 0, 1, 0, 1, 0, 1, 0, 0, 1, 0, 0, 4, 0, 0, 0, 6],\n",
              " [0, 1, 1, 0, 1, 0, 0, 0, 1, 1, 0, 0, 1, 1, 0, 0, 2],\n",
              " [1, 0, 0, 1, 0, 0, 1, 1, 1, 1, 0, 0, 2, 1, 0, 1, 1],\n",
              " [1, 0, 0, 1, 0, 0, 1, 1, 1, 1, 0, 0, 2, 1, 0, 1, 1],\n",
              " [0, 0, 1, 0, 0, 1, 1, 0, 0, 0, 0, 0, 4, 0, 0, 0, 7],\n",
              " [1, 0, 0, 1, 0, 0, 1, 1, 1, 1, 0, 0, 2, 1, 0, 1, 1],\n",
              " [1, 0, 0, 1, 0, 1, 1, 1, 1, 1, 0, 0, 2, 1, 0, 1, 1],\n",
              " [1, 0, 0, 1, 0, 0, 1, 1, 1, 1, 0, 0, 2, 1, 0, 0, 1],\n",
              " [1, 0, 0, 1, 0, 0, 1, 1, 1, 1, 0, 0, 2, 1, 0, 1, 1],\n",
              " [1, 0, 1, 0, 1, 0, 0, 0, 0, 1, 0, 0, 4, 0, 0, 0, 6],\n",
              " [0, 0, 1, 0, 0, 1, 1, 1, 1, 1, 0, 0, 2, 1, 0, 0, 5],\n",
              " [0, 0, 1, 0, 0, 1, 1, 0, 0, 0, 0, 0, 5, 0, 0, 1, 7],\n",
              " [1, 0, 0, 1, 0, 0, 1, 1, 1, 1, 0, 0, 2, 1, 0, 0, 1],\n",
              " [1, 0, 0, 1, 0, 0, 0, 1, 1, 1, 0, 0, 2, 1, 0, 1, 1],\n",
              " [0, 1, 1, 0, 0, 0, 0, 0, 1, 1, 0, 0, 1, 1, 0, 1, 2],\n",
              " [0, 1, 1, 0, 1, 0, 0, 0, 1, 1, 0, 0, 1, 1, 1, 0, 2],\n",
              " [0, 1, 1, 0, 0, 1, 1, 0, 1, 1, 0, 0, 1, 1, 0, 1, 2],\n",
              " [0, 1, 1, 0, 1, 0, 0, 0, 1, 1, 0, 0, 1, 1, 0, 0, 2],\n",
              " [0, 0, 1, 0, 0, 1, 1, 1, 1, 0, 0, 1, 0, 1, 0, 1, 4],\n",
              " [0, 0, 1, 0, 0, 1, 1, 1, 1, 0, 0, 1, 0, 1, 0, 0, 4],\n",
              " [0, 0, 1, 0, 0, 0, 1, 1, 1, 1, 1, 0, 0, 1, 0, 0, 3],\n",
              " [1, 0, 1, 1, 0, 1, 1, 0, 1, 1, 0, 0, 2, 1, 0, 1, 1],\n",
              " [1, 0, 0, 1, 0, 0, 1, 1, 1, 1, 0, 0, 2, 1, 0, 1, 1],\n",
              " [1, 0, 0, 1, 0, 0, 0, 1, 1, 1, 0, 0, 2, 1, 1, 1, 1],\n",
              " [0, 0, 0, 1, 0, 1, 1, 1, 1, 1, 0, 1, 0, 1, 0, 1, 1],\n",
              " [1, 0, 0, 1, 0, 0, 1, 1, 1, 1, 0, 0, 2, 1, 0, 1, 1],\n",
              " [1, 0, 0, 1, 0, 0, 1, 1, 1, 1, 0, 0, 2, 1, 1, 1, 1],\n",
              " [1, 0, 0, 1, 0, 0, 1, 1, 1, 1, 0, 0, 2, 1, 0, 1, 1],\n",
              " [1, 0, 0, 1, 0, 0, 0, 1, 1, 1, 0, 0, 2, 1, 1, 1, 1],\n",
              " [0, 1, 1, 0, 0, 0, 1, 0, 1, 1, 0, 0, 1, 1, 0, 1, 2],\n",
              " [0, 0, 0, 0, 0, 0, 1, 0, 0, 1, 1, 0, 5, 1, 0, 0, 7],\n",
              " [0, 0, 1, 0, 0, 1, 0, 1, 1, 0, 0, 1, 0, 1, 0, 0, 4],\n",
              " [1, 0, 0, 1, 0, 1, 1, 1, 1, 1, 0, 1, 0, 0, 0, 1, 1],\n",
              " [1, 0, 0, 1, 0, 1, 1, 1, 1, 1, 0, 1, 1, 1, 0, 1, 1],\n",
              " [0, 0, 0, 0, 0, 1, 1, 1, 1, 0, 1, 0, 0, 1, 0, 0, 3],\n",
              " [0, 0, 1, 0, 0, 1, 1, 0, 0, 0, 1, 0, 0, 0, 0, 0, 7],\n",
              " [0, 1, 1, 0, 1, 1, 1, 0, 1, 1, 0, 0, 1, 1, 0, 0, 2],\n",
              " [0, 1, 1, 0, 1, 1, 1, 0, 1, 1, 0, 0, 1, 1, 0, 0, 2],\n",
              " [0, 0, 1, 0, 0, 0, 1, 1, 1, 1, 0, 0, 0, 1, 0, 0, 3],\n",
              " [0, 0, 1, 0, 0, 0, 0, 0, 0, 1, 0, 0, 0, 0, 0, 0, 7],\n",
              " [0, 0, 1, 0, 0, 1, 0, 1, 1, 0, 0, 1, 0, 1, 0, 0, 4],\n",
              " [0, 1, 1, 0, 1, 0, 0, 0, 1, 1, 0, 0, 1, 1, 0, 0, 2],\n",
              " [1, 0, 0, 1, 0, 0, 0, 1, 1, 1, 0, 0, 1, 1, 0, 0, 1],\n",
              " [0, 0, 1, 0, 0, 1, 1, 0, 0, 0, 0, 0, 3, 0, 0, 0, 7],\n",
              " [0, 0, 1, 0, 0, 1, 1, 1, 1, 0, 1, 1, 0, 1, 0, 1, 4],\n",
              " [0, 1, 1, 0, 1, 1, 0, 0, 1, 1, 0, 0, 1, 1, 0, 1, 2],\n",
              " [0, 0, 1, 0, 0, 0, 0, 0, 0, 1, 0, 0, 4, 0, 0, 0, 6],\n",
              " [0, 0, 1, 0, 0, 1, 0, 1, 1, 1, 0, 0, 2, 0, 0, 0, 5],\n",
              " [0, 0, 1, 0, 0, 0, 0, 0, 1, 1, 0, 0, 2, 1, 0, 1, 3],\n",
              " [0, 0, 1, 0, 0, 0, 1, 1, 1, 1, 0, 0, 2, 1, 0, 0, 3],\n",
              " [0, 0, 1, 0, 0, 1, 1, 1, 1, 0, 0, 1, 0, 1, 0, 1, 4],\n",
              " [1, 0, 0, 1, 1, 0, 0, 1, 1, 1, 0, 0, 1, 1, 0, 0, 1],\n",
              " [1, 0, 0, 1, 0, 0, 0, 1, 1, 1, 0, 0, 2, 1, 0, 0, 1],\n",
              " [0, 1, 1, 0, 1, 0, 1, 0, 1, 1, 0, 0, 1, 1, 0, 1, 2],\n",
              " [1, 0, 0, 1, 0, 0, 0, 1, 1, 1, 0, 0, 1, 1, 0, 1, 1],\n",
              " [1, 0, 1, 0, 1, 0, 0, 0, 0, 1, 1, 0, 4, 0, 0, 0, 6],\n",
              " [1, 0, 0, 1, 0, 0, 1, 1, 1, 1, 0, 0, 2, 1, 0, 1, 1],\n",
              " [0, 0, 1, 0, 0, 0, 0, 0, 0, 1, 0, 0, 0, 0, 0, 0, 7],\n",
              " [0, 1, 1, 0, 1, 0, 0, 0, 1, 1, 0, 0, 1, 1, 0, 0, 2]]"
            ]
          },
          "metadata": {
            "tags": []
          },
          "execution_count": 8
        }
      ]
    },
    {
      "cell_type": "markdown",
      "metadata": {
        "id": "Z7bIpyA1GzZU",
        "colab_type": "text"
      },
      "source": [
        "## Data preparation - Create training + test dataset"
      ]
    },
    {
      "cell_type": "code",
      "metadata": {
        "id": "KqrPIGJSG6Dx",
        "colab_type": "code",
        "colab": {}
      },
      "source": [
        "def train_test_split(data, test_size):\n",
        "    \n",
        "    if isinstance(test_size, float):\n",
        "        test_size = round(test_size * len(data))\n",
        "    test_indices = random.sample(range(len(data)), k=test_size)\n",
        "    train_indices = [i for i in range(len(data)) if i not in test_indices]\n",
        "    \n",
        "    test_df = []\n",
        "    for index in test_indices:\n",
        "        test_d = data[index]\n",
        "        test_df.append(test_d)\n",
        "    \n",
        "    train_df = []\n",
        "    for index in train_indices:\n",
        "        train_d = data[index]\n",
        "        train_df.append(train_d)\n",
        "    \n",
        "    return train_df, test_df\n",
        "\n",
        "random.seed(0)\n",
        "train_data, test_data = train_test_split(zoo_data, test_size = 30)\n",
        "train_sample_num = len(train_data)\n",
        "attr_num = len(train_data[0])-1"
      ],
      "execution_count": 0,
      "outputs": []
    },
    {
      "cell_type": "markdown",
      "metadata": {
        "id": "8bX0Q6AHIBwP",
        "colab_type": "text"
      },
      "source": [
        "# 3.Traing a model on the data"
      ]
    },
    {
      "cell_type": "code",
      "metadata": {
        "id": "hhh5UGszIN-R",
        "colab_type": "code",
        "outputId": "2e308e80-8878-4626-a055-cb7cac3e9a8e",
        "colab": {
          "base_uri": "https://localhost:8080/",
          "height": 1000
        }
      },
      "source": [
        "\"\"\"\n",
        "Split the dataset by class values, returns a dictionary\n",
        "\"\"\"\n",
        "def separate_by_class(dataset):\n",
        "    separated = dict()\n",
        "    for i in range(len(dataset)):\n",
        "        vector = dataset[i]\n",
        "        class_value = vector[-1]\n",
        "        if (class_value not in separated):\n",
        "            separated[class_value] = list()\n",
        "        separated[class_value].append(vector)\n",
        "    return separated\n",
        "separated = separate_by_class(train_data)\n",
        "separated"
      ],
      "execution_count": 0,
      "outputs": [
        {
          "output_type": "execute_result",
          "data": {
            "text/plain": [
              "{1: [[1, 0, 0, 1, 0, 0, 1, 1, 1, 1, 0, 0, 2, 0, 0, 1, 1],\n",
              "  [1, 0, 0, 1, 0, 0, 0, 1, 1, 1, 0, 0, 2, 1, 0, 1, 1],\n",
              "  [1, 0, 0, 1, 0, 0, 1, 1, 1, 1, 0, 0, 2, 0, 0, 1, 1],\n",
              "  [1, 0, 0, 1, 0, 0, 1, 1, 1, 1, 0, 0, 2, 1, 0, 1, 1],\n",
              "  [1, 0, 0, 1, 0, 0, 0, 1, 1, 1, 0, 0, 2, 1, 1, 1, 1],\n",
              "  [1, 0, 0, 1, 0, 0, 1, 1, 1, 1, 0, 0, 2, 1, 0, 1, 1],\n",
              "  [0, 0, 0, 1, 0, 1, 1, 1, 1, 1, 0, 1, 0, 1, 0, 1, 1],\n",
              "  [1, 0, 0, 1, 0, 0, 0, 1, 1, 1, 0, 0, 2, 1, 0, 1, 1],\n",
              "  [1, 0, 0, 1, 0, 0, 0, 1, 1, 1, 0, 0, 2, 1, 0, 1, 1],\n",
              "  [1, 0, 0, 1, 0, 0, 1, 1, 1, 1, 0, 0, 1, 0, 1, 1, 1],\n",
              "  [1, 0, 0, 1, 0, 0, 0, 1, 1, 1, 0, 0, 2, 1, 1, 1, 1],\n",
              "  [1, 0, 0, 1, 0, 0, 0, 1, 1, 1, 0, 0, 2, 1, 1, 0, 1],\n",
              "  [1, 0, 0, 1, 0, 0, 1, 1, 1, 1, 0, 0, 2, 1, 0, 1, 1],\n",
              "  [1, 0, 0, 1, 0, 0, 1, 1, 1, 1, 0, 0, 2, 1, 0, 1, 1],\n",
              "  [1, 0, 0, 1, 0, 1, 1, 1, 1, 1, 0, 0, 2, 1, 0, 1, 1],\n",
              "  [1, 0, 0, 1, 0, 0, 1, 1, 1, 1, 0, 0, 2, 1, 0, 1, 1],\n",
              "  [1, 0, 0, 1, 0, 0, 1, 1, 1, 1, 0, 0, 2, 1, 0, 0, 1],\n",
              "  [1, 0, 0, 1, 0, 0, 0, 1, 1, 1, 0, 0, 2, 1, 0, 1, 1],\n",
              "  [1, 0, 1, 1, 0, 1, 1, 0, 1, 1, 0, 0, 2, 1, 0, 1, 1],\n",
              "  [0, 0, 0, 1, 0, 1, 1, 1, 1, 1, 0, 1, 0, 1, 0, 1, 1],\n",
              "  [1, 0, 0, 1, 0, 0, 1, 1, 1, 1, 0, 0, 2, 1, 0, 1, 1],\n",
              "  [1, 0, 0, 1, 0, 0, 1, 1, 1, 1, 0, 0, 2, 1, 0, 1, 1],\n",
              "  [1, 0, 0, 1, 0, 0, 0, 1, 1, 1, 0, 0, 2, 1, 1, 1, 1],\n",
              "  [1, 0, 0, 1, 0, 1, 1, 1, 1, 1, 0, 1, 1, 1, 0, 1, 1],\n",
              "  [1, 0, 0, 1, 0, 0, 0, 1, 1, 1, 0, 0, 1, 1, 0, 0, 1],\n",
              "  [1, 0, 0, 1, 1, 0, 0, 1, 1, 1, 0, 0, 1, 1, 0, 0, 1],\n",
              "  [1, 0, 0, 1, 0, 0, 0, 1, 1, 1, 0, 0, 2, 1, 0, 0, 1],\n",
              "  [1, 0, 0, 1, 0, 0, 0, 1, 1, 1, 0, 0, 1, 1, 0, 1, 1],\n",
              "  [1, 0, 0, 1, 0, 0, 1, 1, 1, 1, 0, 0, 2, 1, 0, 1, 1]],\n",
              " 2: [[0, 1, 1, 0, 1, 0, 0, 0, 1, 1, 0, 0, 1, 1, 1, 0, 2],\n",
              "  [0, 1, 1, 0, 1, 0, 1, 0, 1, 1, 0, 0, 1, 1, 0, 0, 2],\n",
              "  [0, 1, 1, 0, 1, 0, 0, 0, 1, 1, 0, 0, 1, 1, 1, 0, 2],\n",
              "  [0, 1, 1, 0, 1, 1, 0, 0, 1, 1, 0, 0, 1, 1, 0, 0, 2],\n",
              "  [0, 1, 1, 0, 1, 0, 0, 0, 1, 1, 0, 0, 1, 1, 0, 1, 2],\n",
              "  [0, 1, 1, 0, 1, 0, 1, 0, 1, 1, 0, 0, 1, 1, 0, 0, 2],\n",
              "  [0, 1, 1, 0, 0, 0, 1, 0, 1, 1, 0, 0, 1, 1, 0, 0, 2],\n",
              "  [0, 1, 1, 0, 1, 0, 0, 0, 1, 1, 0, 0, 1, 1, 0, 0, 2],\n",
              "  [0, 1, 1, 0, 0, 0, 0, 0, 1, 1, 0, 0, 1, 1, 0, 1, 2],\n",
              "  [0, 1, 1, 0, 1, 0, 0, 0, 1, 1, 0, 0, 1, 1, 1, 0, 2],\n",
              "  [0, 1, 1, 0, 0, 1, 1, 0, 1, 1, 0, 0, 1, 1, 0, 1, 2],\n",
              "  [0, 1, 1, 0, 1, 0, 0, 0, 1, 1, 0, 0, 1, 1, 0, 0, 2],\n",
              "  [0, 1, 1, 0, 1, 1, 1, 0, 1, 1, 0, 0, 1, 1, 0, 0, 2],\n",
              "  [0, 1, 1, 0, 1, 1, 0, 0, 1, 1, 0, 0, 1, 1, 0, 1, 2],\n",
              "  [0, 1, 1, 0, 1, 0, 1, 0, 1, 1, 0, 0, 1, 1, 0, 1, 2],\n",
              "  [0, 1, 1, 0, 1, 0, 0, 0, 1, 1, 0, 0, 1, 1, 0, 0, 2]],\n",
              " 3: [[0, 0, 1, 0, 0, 0, 1, 1, 1, 1, 0, 0, 0, 1, 0, 0, 3],\n",
              "  [0, 0, 1, 0, 0, 0, 0, 0, 1, 1, 0, 0, 2, 1, 0, 1, 3],\n",
              "  [0, 0, 1, 0, 0, 0, 1, 1, 1, 1, 0, 0, 2, 1, 0, 0, 3]],\n",
              " 4: [[0, 0, 1, 0, 0, 1, 1, 1, 1, 0, 0, 1, 0, 1, 0, 0, 4],\n",
              "  [0, 0, 1, 0, 0, 1, 0, 1, 1, 0, 0, 1, 0, 1, 1, 0, 4],\n",
              "  [0, 0, 1, 0, 0, 1, 1, 1, 1, 0, 0, 1, 0, 1, 0, 0, 4],\n",
              "  [0, 0, 1, 0, 0, 1, 0, 1, 1, 0, 0, 1, 0, 1, 0, 0, 4],\n",
              "  [0, 0, 1, 0, 0, 1, 0, 1, 1, 0, 0, 1, 0, 1, 0, 0, 4],\n",
              "  [0, 0, 1, 0, 0, 1, 0, 1, 1, 0, 0, 1, 0, 1, 0, 0, 4],\n",
              "  [0, 0, 1, 0, 0, 1, 1, 1, 1, 0, 0, 1, 0, 1, 0, 1, 4]],\n",
              " 5: [[0, 0, 1, 0, 0, 1, 1, 1, 1, 1, 0, 0, 2, 0, 0, 0, 5],\n",
              "  [0, 0, 1, 0, 0, 1, 1, 1, 1, 1, 1, 0, 2, 0, 0, 0, 5],\n",
              "  [0, 0, 1, 0, 0, 1, 1, 1, 1, 1, 0, 0, 2, 1, 0, 0, 5],\n",
              "  [0, 0, 1, 0, 0, 1, 0, 1, 1, 1, 0, 0, 2, 0, 0, 0, 5]],\n",
              " 6: [[0, 0, 1, 0, 0, 0, 0, 0, 0, 1, 0, 0, 4, 0, 0, 0, 6],\n",
              "  [0, 0, 1, 0, 1, 0, 0, 0, 0, 1, 0, 0, 4, 0, 0, 0, 6],\n",
              "  [1, 0, 1, 0, 1, 0, 0, 0, 0, 1, 0, 0, 4, 0, 0, 0, 6],\n",
              "  [0, 0, 1, 0, 0, 0, 0, 0, 0, 1, 0, 0, 4, 0, 0, 0, 6]],\n",
              " 7: [[0, 0, 1, 0, 0, 0, 1, 0, 0, 0, 0, 0, 0, 0, 0, 0, 7],\n",
              "  [0, 0, 1, 0, 0, 1, 1, 0, 0, 0, 0, 0, 2, 0, 0, 0, 7],\n",
              "  [0, 0, 1, 0, 0, 1, 1, 0, 0, 0, 0, 0, 4, 0, 0, 0, 7],\n",
              "  [0, 0, 1, 0, 0, 1, 1, 0, 0, 0, 0, 0, 4, 0, 0, 0, 7],\n",
              "  [0, 0, 0, 0, 0, 0, 1, 0, 0, 1, 1, 0, 5, 1, 0, 0, 7],\n",
              "  [0, 0, 1, 0, 0, 0, 0, 0, 0, 1, 0, 0, 0, 0, 0, 0, 7],\n",
              "  [0, 0, 1, 0, 0, 1, 1, 0, 0, 0, 0, 0, 3, 0, 0, 0, 7],\n",
              "  [0, 0, 1, 0, 0, 0, 0, 0, 0, 1, 0, 0, 0, 0, 0, 0, 7]]}"
            ]
          },
          "metadata": {
            "tags": []
          },
          "execution_count": 10
        }
      ]
    },
    {
      "cell_type": "code",
      "metadata": {
        "id": "5-MCTrphIcXz",
        "colab_type": "code",
        "outputId": "685f0ecc-229e-4131-ed59-1a1c8bac3a0c",
        "colab": {
          "base_uri": "https://localhost:8080/",
          "height": 34
        }
      },
      "source": [
        "\"\"\"\n",
        "P(C = class)\n",
        "\"\"\"\n",
        "def calculate_class_prob(label):\n",
        "    count = len(separated[label])\n",
        "    py = count/train_sample_num\n",
        "    return py\n",
        "\n",
        "calculate_class_prob(3)\n"
      ],
      "execution_count": 0,
      "outputs": [
        {
          "output_type": "execute_result",
          "data": {
            "text/plain": [
              "0.04225352112676056"
            ]
          },
          "metadata": {
            "tags": []
          },
          "execution_count": 11
        }
      ]
    },
    {
      "cell_type": "code",
      "metadata": {
        "id": "8nQDIqOFJAkQ",
        "colab_type": "code",
        "outputId": "e96399b9-456d-4745-bab4-fba1d1c61169",
        "colab": {
          "base_uri": "https://localhost:8080/",
          "height": 289
        }
      },
      "source": [
        "\"\"\"\n",
        "P(X = x |C = class)\n",
        "\"\"\"\n",
        "def calculate_feature_prob(label):\n",
        "    label_rows = separated[label]\n",
        "    label_num = len(label_rows)\n",
        "    label_rows = separated[label]\n",
        "    f_prob = []\n",
        "    for i in range(attr_num):\n",
        "        if i != 12:\n",
        "            count0 = 0\n",
        "            count1 = 0\n",
        "            for row in label_rows:\n",
        "                if row[i] == 0:\n",
        "                    count0 += 1\n",
        "                else:\n",
        "                    count1 += 1\n",
        "            cal = (count0/label_num, count1/label_num)\n",
        "            f_prob.append(cal)\n",
        "        else: # Leg features have 6 different values\n",
        "            count0 = 0\n",
        "            count1 = 0\n",
        "            count2 = 0\n",
        "            count3 = 0\n",
        "            count4 = 0\n",
        "            count5 = 0\n",
        "            for row in label_rows:\n",
        "                if row[i] == 0:\n",
        "                    count0 += 1\n",
        "                elif row[i] == 1:\n",
        "                    count1 += 1\n",
        "                elif row[i] == 2:\n",
        "                    count2 += 1\n",
        "                elif row[i] == 3:\n",
        "                    count3 += 1\n",
        "                elif row[i] == 4:\n",
        "                    count4 += 1\n",
        "                else:\n",
        "                    count5 += 1\n",
        "            cal = (count0/label_num, count1/label_num, count2/label_num,\n",
        "                   count3/label_num, count4/label_num, count5/label_num)\n",
        "            f_prob.append(cal)\n",
        "            \n",
        "    return f_prob\n",
        "\n",
        "calculate_feature_prob(1)"
      ],
      "execution_count": 0,
      "outputs": [
        {
          "output_type": "execute_result",
          "data": {
            "text/plain": [
              "[(0.06896551724137931, 0.9310344827586207),\n",
              " (1.0, 0.0),\n",
              " (0.9655172413793104, 0.034482758620689655),\n",
              " (0.0, 1.0),\n",
              " (0.9655172413793104, 0.034482758620689655),\n",
              " (0.8275862068965517, 0.1724137931034483),\n",
              " (0.41379310344827586, 0.5862068965517241),\n",
              " (0.034482758620689655, 0.9655172413793104),\n",
              " (0.0, 1.0),\n",
              " (0.0, 1.0),\n",
              " (1.0, 0.0),\n",
              " (0.896551724137931, 0.10344827586206896),\n",
              " (0.06896551724137931, 0.1724137931034483, 0.7586206896551724, 0.0, 0.0, 0.0),\n",
              " (0.10344827586206896, 0.896551724137931),\n",
              " (0.8275862068965517, 0.1724137931034483),\n",
              " (0.1724137931034483, 0.8275862068965517)]"
            ]
          },
          "metadata": {
            "tags": []
          },
          "execution_count": 13
        }
      ]
    },
    {
      "cell_type": "code",
      "metadata": {
        "id": "pvjuAQ0LZznR",
        "colab_type": "code",
        "outputId": "c6284e86-74dc-4640-a827-9981472c2688",
        "colab": {
          "base_uri": "https://localhost:8080/",
          "height": 68
        }
      },
      "source": [
        "separated[3]"
      ],
      "execution_count": 0,
      "outputs": [
        {
          "output_type": "execute_result",
          "data": {
            "text/plain": [
              "[[0, 0, 1, 0, 0, 0, 1, 1, 1, 1, 0, 0, 0, 1, 0, 0, 3],\n",
              " [0, 0, 1, 0, 0, 0, 0, 0, 1, 1, 0, 0, 2, 1, 0, 1, 3],\n",
              " [0, 0, 1, 0, 0, 0, 1, 1, 1, 1, 0, 0, 2, 1, 0, 0, 3]]"
            ]
          },
          "metadata": {
            "tags": []
          },
          "execution_count": 14
        }
      ]
    },
    {
      "cell_type": "code",
      "metadata": {
        "id": "_d7HyS4aJ3Qu",
        "colab_type": "code",
        "outputId": "36ef596e-ebe1-4f20-e99b-27600458b9ed",
        "colab": {
          "base_uri": "https://localhost:8080/",
          "height": 1000
        }
      },
      "source": [
        "def create_model():\n",
        "    model = {}\n",
        "    for class_value in separated:\n",
        "        pxy = calculate_feature_prob(class_value)\n",
        "        py = calculate_class_prob(class_value)\n",
        "        model[class_value] = [pxy, py]\n",
        "    return model\n",
        "\n",
        "model = create_model()\n",
        "model"
      ],
      "execution_count": 0,
      "outputs": [
        {
          "output_type": "execute_result",
          "data": {
            "text/plain": [
              "{1: [[(0.06896551724137931, 0.9310344827586207),\n",
              "   (1.0, 0.0),\n",
              "   (0.9655172413793104, 0.034482758620689655),\n",
              "   (0.0, 1.0),\n",
              "   (0.9655172413793104, 0.034482758620689655),\n",
              "   (0.8275862068965517, 0.1724137931034483),\n",
              "   (0.41379310344827586, 0.5862068965517241),\n",
              "   (0.034482758620689655, 0.9655172413793104),\n",
              "   (0.0, 1.0),\n",
              "   (0.0, 1.0),\n",
              "   (1.0, 0.0),\n",
              "   (0.896551724137931, 0.10344827586206896),\n",
              "   (0.06896551724137931,\n",
              "    0.1724137931034483,\n",
              "    0.7586206896551724,\n",
              "    0.0,\n",
              "    0.0,\n",
              "    0.0),\n",
              "   (0.10344827586206896, 0.896551724137931),\n",
              "   (0.8275862068965517, 0.1724137931034483),\n",
              "   (0.1724137931034483, 0.8275862068965517)],\n",
              "  0.4084507042253521],\n",
              " 2: [[(1.0, 0.0),\n",
              "   (0.0, 1.0),\n",
              "   (0.0, 1.0),\n",
              "   (1.0, 0.0),\n",
              "   (0.1875, 0.8125),\n",
              "   (0.75, 0.25),\n",
              "   (0.625, 0.375),\n",
              "   (1.0, 0.0),\n",
              "   (0.0, 1.0),\n",
              "   (0.0, 1.0),\n",
              "   (1.0, 0.0),\n",
              "   (1.0, 0.0),\n",
              "   (0.0, 1.0, 0.0, 0.0, 0.0, 0.0),\n",
              "   (0.0, 1.0),\n",
              "   (0.8125, 0.1875),\n",
              "   (0.6875, 0.3125)],\n",
              "  0.22535211267605634],\n",
              " 3: [[(1.0, 0.0),\n",
              "   (1.0, 0.0),\n",
              "   (0.0, 1.0),\n",
              "   (1.0, 0.0),\n",
              "   (1.0, 0.0),\n",
              "   (1.0, 0.0),\n",
              "   (0.3333333333333333, 0.6666666666666666),\n",
              "   (0.3333333333333333, 0.6666666666666666),\n",
              "   (0.0, 1.0),\n",
              "   (0.0, 1.0),\n",
              "   (1.0, 0.0),\n",
              "   (1.0, 0.0),\n",
              "   (0.3333333333333333, 0.0, 0.6666666666666666, 0.0, 0.0, 0.0),\n",
              "   (0.0, 1.0),\n",
              "   (1.0, 0.0),\n",
              "   (0.6666666666666666, 0.3333333333333333)],\n",
              "  0.04225352112676056],\n",
              " 4: [[(1.0, 0.0),\n",
              "   (1.0, 0.0),\n",
              "   (0.0, 1.0),\n",
              "   (1.0, 0.0),\n",
              "   (1.0, 0.0),\n",
              "   (0.0, 1.0),\n",
              "   (0.5714285714285714, 0.42857142857142855),\n",
              "   (0.0, 1.0),\n",
              "   (0.0, 1.0),\n",
              "   (1.0, 0.0),\n",
              "   (1.0, 0.0),\n",
              "   (0.0, 1.0),\n",
              "   (1.0, 0.0, 0.0, 0.0, 0.0, 0.0),\n",
              "   (0.0, 1.0),\n",
              "   (0.8571428571428571, 0.14285714285714285),\n",
              "   (0.8571428571428571, 0.14285714285714285)],\n",
              "  0.09859154929577464],\n",
              " 5: [[(1.0, 0.0),\n",
              "   (1.0, 0.0),\n",
              "   (0.0, 1.0),\n",
              "   (1.0, 0.0),\n",
              "   (1.0, 0.0),\n",
              "   (0.0, 1.0),\n",
              "   (0.25, 0.75),\n",
              "   (0.0, 1.0),\n",
              "   (0.0, 1.0),\n",
              "   (0.0, 1.0),\n",
              "   (0.75, 0.25),\n",
              "   (1.0, 0.0),\n",
              "   (0.0, 0.0, 1.0, 0.0, 0.0, 0.0),\n",
              "   (0.75, 0.25),\n",
              "   (1.0, 0.0),\n",
              "   (1.0, 0.0)],\n",
              "  0.056338028169014086],\n",
              " 6: [[(0.75, 0.25),\n",
              "   (1.0, 0.0),\n",
              "   (0.0, 1.0),\n",
              "   (1.0, 0.0),\n",
              "   (0.5, 0.5),\n",
              "   (1.0, 0.0),\n",
              "   (1.0, 0.0),\n",
              "   (1.0, 0.0),\n",
              "   (1.0, 0.0),\n",
              "   (0.0, 1.0),\n",
              "   (1.0, 0.0),\n",
              "   (1.0, 0.0),\n",
              "   (0.0, 0.0, 0.0, 0.0, 1.0, 0.0),\n",
              "   (1.0, 0.0),\n",
              "   (1.0, 0.0),\n",
              "   (1.0, 0.0)],\n",
              "  0.056338028169014086],\n",
              " 7: [[(1.0, 0.0),\n",
              "   (1.0, 0.0),\n",
              "   (0.125, 0.875),\n",
              "   (1.0, 0.0),\n",
              "   (1.0, 0.0),\n",
              "   (0.5, 0.5),\n",
              "   (0.25, 0.75),\n",
              "   (1.0, 0.0),\n",
              "   (1.0, 0.0),\n",
              "   (0.625, 0.375),\n",
              "   (0.875, 0.125),\n",
              "   (1.0, 0.0),\n",
              "   (0.375, 0.0, 0.125, 0.125, 0.25, 0.125),\n",
              "   (0.875, 0.125),\n",
              "   (1.0, 0.0),\n",
              "   (1.0, 0.0)],\n",
              "  0.11267605633802817]}"
            ]
          },
          "metadata": {
            "tags": []
          },
          "execution_count": 16
        }
      ]
    },
    {
      "cell_type": "code",
      "metadata": {
        "id": "ySecappFWz_R",
        "colab_type": "code",
        "outputId": "b4c03461-31f2-4e18-a4b7-8cfb66d2f4da",
        "colab": {
          "base_uri": "https://localhost:8080/",
          "height": 34
        }
      },
      "source": [
        "def evaluate_class_probabilities(model, sample):\n",
        "    probabilities = dict()\n",
        "    for class_value, class_summaries in model.items():\n",
        "        probabilities[class_value] = class_summaries[1]\n",
        "        for i in range(attr_num):\n",
        "            probabilities[class_value] *= class_summaries[0][i][int(sample[i])]\n",
        "    return probabilities\n",
        "\n",
        "evaluate_class_probabilities(model, test_data[0])"
      ],
      "execution_count": 0,
      "outputs": [
        {
          "output_type": "execute_result",
          "data": {
            "text/plain": [
              "{1: 0.014448085944456403, 2: 0.0, 3: 0.0, 4: 0.0, 5: 0.0, 6: 0.0, 7: 0.0}"
            ]
          },
          "metadata": {
            "tags": []
          },
          "execution_count": 17
        }
      ]
    },
    {
      "cell_type": "code",
      "metadata": {
        "id": "bkFsl_oQW1oq",
        "colab_type": "code",
        "outputId": "0336a72b-e2df-4554-f581-320194b010df",
        "colab": {
          "base_uri": "https://localhost:8080/",
          "height": 34
        }
      },
      "source": [
        "\"\"\"\n",
        "Predict the class for a given sample\n",
        "\"\"\"\n",
        "def predict(model, sample):\n",
        "    probabilities = evaluate_class_probabilities(model, sample)\n",
        "    best_label, best_prob = None, -1\n",
        "    for class_value, probability in probabilities.items():\n",
        "        if best_label is None or probability > best_prob:\n",
        "            best_prob = probability\n",
        "            best_label = class_value\n",
        "    return best_label\n",
        "\n",
        "predict(model, test_data[1])"
      ],
      "execution_count": 0,
      "outputs": [
        {
          "output_type": "execute_result",
          "data": {
            "text/plain": [
              "1"
            ]
          },
          "metadata": {
            "tags": []
          },
          "execution_count": 18
        }
      ]
    },
    {
      "cell_type": "markdown",
      "metadata": {
        "id": "JNsuody5KPze",
        "colab_type": "text"
      },
      "source": [
        "# 4. Evaluate model performance"
      ]
    },
    {
      "cell_type": "code",
      "metadata": {
        "id": "kNRMpQakW6r7",
        "colab_type": "code",
        "colab": {}
      },
      "source": [
        "\"\"\"\n",
        "Evaluate method\n",
        "\"\"\"\n",
        "def accuracy_metric(actual, predicted):\n",
        "    correct = 0\n",
        "    for i in range(len(actual)):\n",
        "        if actual[i] == predicted[i]:\n",
        "            correct += 1\n",
        "    return correct / float(len(actual)) * 100.0"
      ],
      "execution_count": 0,
      "outputs": []
    },
    {
      "cell_type": "code",
      "metadata": {
        "id": "SHKN4DfPWf9v",
        "colab_type": "code",
        "outputId": "9e0bb6eb-942f-4b0c-e91e-43f2f866c456",
        "colab": {
          "base_uri": "https://localhost:8080/",
          "height": 34
        }
      },
      "source": [
        "# get all the predictions\n",
        "predictions = []\n",
        "for row in test_data:\n",
        "    best_label = predict(model, row)\n",
        "    predictions.append(best_label)\n",
        "\n",
        "# get all the real labels\n",
        "actual = []\n",
        "for row in test_data:\n",
        "    real_label = row[-1]\n",
        "    actual.append(real_label)\n",
        "    \n",
        "# Calculate accuracy percentage\n",
        "accuracy = accuracy_metric(actual, predictions)\n",
        "print(\"The accuracy of predcition is: %.2f percent!\" %accuracy )"
      ],
      "execution_count": 0,
      "outputs": [
        {
          "output_type": "stream",
          "text": [
            "The accuracy of predcition is: 76.67 percent!\n"
          ],
          "name": "stdout"
        }
      ]
    },
    {
      "cell_type": "markdown",
      "metadata": {
        "id": "QvhR9DcucRFD",
        "colab_type": "text"
      },
      "source": [
        "#5. Improving model performance"
      ]
    },
    {
      "cell_type": "code",
      "metadata": {
        "id": "1wrBs6WUcVX_",
        "colab_type": "code",
        "outputId": "0c340283-7511-4ea0-e290-ccbc7bd70e1f",
        "colab": {
          "base_uri": "https://localhost:8080/",
          "height": 34
        }
      },
      "source": [
        "\"\"\"\n",
        "Calculate prob with laplace estimator\n",
        "\"\"\"\n",
        "laplace_estimator = 1\n",
        "\n",
        "def evaluate_class_probabilities_2(model, sample):\n",
        "    probabilities = dict()\n",
        "    for class_value, class_summaries in model.items():\n",
        "        probabilities[class_value] = class_summaries[1]\n",
        "        for i in range(attr_num):\n",
        "          f_prob = class_summaries[0][i][int(sample[i])]\n",
        "          if f_prob == 0:\n",
        "            f_prob = laplace_estimator / len(separated[class_value])\n",
        "          probabilities[class_value] *= f_prob\n",
        "    return probabilities\n",
        "\n",
        "evaluate_class_probabilities(model, test_data[0])"
      ],
      "execution_count": 0,
      "outputs": [
        {
          "output_type": "execute_result",
          "data": {
            "text/plain": [
              "{1: 0.014448085944456403, 2: 0.0, 3: 0.0, 4: 0.0, 5: 0.0, 6: 0.0, 7: 0.0}"
            ]
          },
          "metadata": {
            "tags": []
          },
          "execution_count": 21
        }
      ]
    },
    {
      "cell_type": "code",
      "metadata": {
        "id": "1O9S7xLgdV0L",
        "colab_type": "code",
        "outputId": "e1dcf018-d3b7-4d68-8a2d-908d337c8f29",
        "colab": {
          "base_uri": "https://localhost:8080/",
          "height": 374
        }
      },
      "source": [
        "\"\"\"\n",
        "P(X = x |C = class) with laplace\n",
        "\"\"\"\n",
        "laplace_estimator = 1\n",
        "\n",
        "def calc_prob(c, sample_size):\n",
        "  return c / sample_size if c > 0 else laplace_estimator / sample_size\n",
        "\n",
        "def calculate_feature_prob_2(label):\n",
        "  label_rows = separated[label]\n",
        "  label_num = len(label_rows)\n",
        "  label_rows = separated[label]\n",
        "  f_prob = []\n",
        "  for i in range(attr_num):\n",
        "      if i != 12:\n",
        "          count0 = 0\n",
        "          count1 = 0\n",
        "          for row in label_rows:\n",
        "              if row[i] == 0:\n",
        "                  count0 += 1\n",
        "              else:\n",
        "                  count1 += 1\n",
        "          cal = (\n",
        "              calc_prob(count0, label_num),\n",
        "              calc_prob(count1, label_num)\n",
        "          )\n",
        "          f_prob.append(cal)\n",
        "      else: # Leg features have 6 different values\n",
        "          count0 = 0\n",
        "          count1 = 0\n",
        "          count2 = 0\n",
        "          count3 = 0\n",
        "          count4 = 0\n",
        "          count5 = 0\n",
        "          for row in label_rows:\n",
        "              if row[i] == 0:\n",
        "                  count0 += 1\n",
        "              elif row[i] == 1:\n",
        "                  count1 += 1\n",
        "              elif row[i] == 2:\n",
        "                  count2 += 1\n",
        "              elif row[i] == 3:\n",
        "                  count3 += 1\n",
        "              elif row[i] == 4:\n",
        "                  count4 += 1\n",
        "              else:\n",
        "                  count5 += 1\n",
        "          cal = (\n",
        "              calc_prob(count0, label_num),\n",
        "              calc_prob(count1, label_num),\n",
        "              calc_prob(count2, label_num),\n",
        "              calc_prob(count3, label_num),\n",
        "              calc_prob(count4, label_num),\n",
        "              calc_prob(count5, label_num)\n",
        "          )\n",
        "          f_prob.append(cal)\n",
        "          \n",
        "  return f_prob\n",
        "\n",
        "calculate_feature_prob_2(1)"
      ],
      "execution_count": 0,
      "outputs": [
        {
          "output_type": "execute_result",
          "data": {
            "text/plain": [
              "[(0.06896551724137931, 0.9310344827586207),\n",
              " (1.0, 0.034482758620689655),\n",
              " (0.9655172413793104, 0.034482758620689655),\n",
              " (0.034482758620689655, 1.0),\n",
              " (0.9655172413793104, 0.034482758620689655),\n",
              " (0.8275862068965517, 0.1724137931034483),\n",
              " (0.41379310344827586, 0.5862068965517241),\n",
              " (0.034482758620689655, 0.9655172413793104),\n",
              " (0.034482758620689655, 1.0),\n",
              " (0.034482758620689655, 1.0),\n",
              " (1.0, 0.034482758620689655),\n",
              " (0.896551724137931, 0.10344827586206896),\n",
              " (0.06896551724137931,\n",
              "  0.1724137931034483,\n",
              "  0.7586206896551724,\n",
              "  0.034482758620689655,\n",
              "  0.034482758620689655,\n",
              "  0.034482758620689655),\n",
              " (0.10344827586206896, 0.896551724137931),\n",
              " (0.8275862068965517, 0.1724137931034483),\n",
              " (0.1724137931034483, 0.8275862068965517)]"
            ]
          },
          "metadata": {
            "tags": []
          },
          "execution_count": 22
        }
      ]
    },
    {
      "cell_type": "code",
      "metadata": {
        "id": "4frICZOee87Y",
        "colab_type": "code",
        "outputId": "a9a25274-1e35-4aaa-9913-0850f462c182",
        "colab": {
          "base_uri": "https://localhost:8080/",
          "height": 1000
        }
      },
      "source": [
        "def create_model_2():\n",
        "    model = {}\n",
        "    for class_value in separated:\n",
        "        pxy = calculate_feature_prob_2(class_value)\n",
        "        py = calculate_class_prob(class_value)\n",
        "        model[class_value] = [pxy, py]\n",
        "    return model\n",
        "\n",
        "model_2 = create_model_2()\n",
        "model_2"
      ],
      "execution_count": 0,
      "outputs": [
        {
          "output_type": "execute_result",
          "data": {
            "text/plain": [
              "{1: [[(0.06896551724137931, 0.9310344827586207),\n",
              "   (1.0, 0.034482758620689655),\n",
              "   (0.9655172413793104, 0.034482758620689655),\n",
              "   (0.034482758620689655, 1.0),\n",
              "   (0.9655172413793104, 0.034482758620689655),\n",
              "   (0.8275862068965517, 0.1724137931034483),\n",
              "   (0.41379310344827586, 0.5862068965517241),\n",
              "   (0.034482758620689655, 0.9655172413793104),\n",
              "   (0.034482758620689655, 1.0),\n",
              "   (0.034482758620689655, 1.0),\n",
              "   (1.0, 0.034482758620689655),\n",
              "   (0.896551724137931, 0.10344827586206896),\n",
              "   (0.06896551724137931,\n",
              "    0.1724137931034483,\n",
              "    0.7586206896551724,\n",
              "    0.034482758620689655,\n",
              "    0.034482758620689655,\n",
              "    0.034482758620689655),\n",
              "   (0.10344827586206896, 0.896551724137931),\n",
              "   (0.8275862068965517, 0.1724137931034483),\n",
              "   (0.1724137931034483, 0.8275862068965517)],\n",
              "  0.4084507042253521],\n",
              " 2: [[(1.0, 0.0625),\n",
              "   (0.0625, 1.0),\n",
              "   (0.0625, 1.0),\n",
              "   (1.0, 0.0625),\n",
              "   (0.1875, 0.8125),\n",
              "   (0.75, 0.25),\n",
              "   (0.625, 0.375),\n",
              "   (1.0, 0.0625),\n",
              "   (0.0625, 1.0),\n",
              "   (0.0625, 1.0),\n",
              "   (1.0, 0.0625),\n",
              "   (1.0, 0.0625),\n",
              "   (0.0625, 1.0, 0.0625, 0.0625, 0.0625, 0.0625),\n",
              "   (0.0625, 1.0),\n",
              "   (0.8125, 0.1875),\n",
              "   (0.6875, 0.3125)],\n",
              "  0.22535211267605634],\n",
              " 3: [[(1.0, 0.3333333333333333),\n",
              "   (1.0, 0.3333333333333333),\n",
              "   (0.3333333333333333, 1.0),\n",
              "   (1.0, 0.3333333333333333),\n",
              "   (1.0, 0.3333333333333333),\n",
              "   (1.0, 0.3333333333333333),\n",
              "   (0.3333333333333333, 0.6666666666666666),\n",
              "   (0.3333333333333333, 0.6666666666666666),\n",
              "   (0.3333333333333333, 1.0),\n",
              "   (0.3333333333333333, 1.0),\n",
              "   (1.0, 0.3333333333333333),\n",
              "   (1.0, 0.3333333333333333),\n",
              "   (0.3333333333333333,\n",
              "    0.3333333333333333,\n",
              "    0.6666666666666666,\n",
              "    0.3333333333333333,\n",
              "    0.3333333333333333,\n",
              "    0.3333333333333333),\n",
              "   (0.3333333333333333, 1.0),\n",
              "   (1.0, 0.3333333333333333),\n",
              "   (0.6666666666666666, 0.3333333333333333)],\n",
              "  0.04225352112676056],\n",
              " 4: [[(1.0, 0.14285714285714285),\n",
              "   (1.0, 0.14285714285714285),\n",
              "   (0.14285714285714285, 1.0),\n",
              "   (1.0, 0.14285714285714285),\n",
              "   (1.0, 0.14285714285714285),\n",
              "   (0.14285714285714285, 1.0),\n",
              "   (0.5714285714285714, 0.42857142857142855),\n",
              "   (0.14285714285714285, 1.0),\n",
              "   (0.14285714285714285, 1.0),\n",
              "   (1.0, 0.14285714285714285),\n",
              "   (1.0, 0.14285714285714285),\n",
              "   (0.14285714285714285, 1.0),\n",
              "   (1.0,\n",
              "    0.14285714285714285,\n",
              "    0.14285714285714285,\n",
              "    0.14285714285714285,\n",
              "    0.14285714285714285,\n",
              "    0.14285714285714285),\n",
              "   (0.14285714285714285, 1.0),\n",
              "   (0.8571428571428571, 0.14285714285714285),\n",
              "   (0.8571428571428571, 0.14285714285714285)],\n",
              "  0.09859154929577464],\n",
              " 5: [[(1.0, 0.25),\n",
              "   (1.0, 0.25),\n",
              "   (0.25, 1.0),\n",
              "   (1.0, 0.25),\n",
              "   (1.0, 0.25),\n",
              "   (0.25, 1.0),\n",
              "   (0.25, 0.75),\n",
              "   (0.25, 1.0),\n",
              "   (0.25, 1.0),\n",
              "   (0.25, 1.0),\n",
              "   (0.75, 0.25),\n",
              "   (1.0, 0.25),\n",
              "   (0.25, 0.25, 1.0, 0.25, 0.25, 0.25),\n",
              "   (0.75, 0.25),\n",
              "   (1.0, 0.25),\n",
              "   (1.0, 0.25)],\n",
              "  0.056338028169014086],\n",
              " 6: [[(0.75, 0.25),\n",
              "   (1.0, 0.25),\n",
              "   (0.25, 1.0),\n",
              "   (1.0, 0.25),\n",
              "   (0.5, 0.5),\n",
              "   (1.0, 0.25),\n",
              "   (1.0, 0.25),\n",
              "   (1.0, 0.25),\n",
              "   (1.0, 0.25),\n",
              "   (0.25, 1.0),\n",
              "   (1.0, 0.25),\n",
              "   (1.0, 0.25),\n",
              "   (0.25, 0.25, 0.25, 0.25, 1.0, 0.25),\n",
              "   (1.0, 0.25),\n",
              "   (1.0, 0.25),\n",
              "   (1.0, 0.25)],\n",
              "  0.056338028169014086],\n",
              " 7: [[(1.0, 0.125),\n",
              "   (1.0, 0.125),\n",
              "   (0.125, 0.875),\n",
              "   (1.0, 0.125),\n",
              "   (1.0, 0.125),\n",
              "   (0.5, 0.5),\n",
              "   (0.25, 0.75),\n",
              "   (1.0, 0.125),\n",
              "   (1.0, 0.125),\n",
              "   (0.625, 0.375),\n",
              "   (0.875, 0.125),\n",
              "   (1.0, 0.125),\n",
              "   (0.375, 0.125, 0.125, 0.125, 0.25, 0.125),\n",
              "   (0.875, 0.125),\n",
              "   (1.0, 0.125),\n",
              "   (1.0, 0.125)],\n",
              "  0.11267605633802817]}"
            ]
          },
          "metadata": {
            "tags": []
          },
          "execution_count": 23
        }
      ]
    },
    {
      "cell_type": "code",
      "metadata": {
        "id": "aQDWnrTofEds",
        "colab_type": "code",
        "outputId": "dc5a677b-abd3-46f5-f116-b988a858b971",
        "colab": {
          "base_uri": "https://localhost:8080/",
          "height": 34
        }
      },
      "source": [
        "# get all the predictions\n",
        "predictions = []\n",
        "for row in test_data:\n",
        "    best_label = predict(model_2, row)\n",
        "    predictions.append(best_label)\n",
        "\n",
        "# get all the real labels\n",
        "actual = []\n",
        "for row in test_data:\n",
        "    real_label = row[-1]\n",
        "    actual.append(real_label)\n",
        "    \n",
        "# Calculate accuracy percentage\n",
        "accuracy = accuracy_metric(actual, predictions)\n",
        "print(\"The accuracy of predcition is: %.2f percent!\" %accuracy )"
      ],
      "execution_count": 0,
      "outputs": [
        {
          "output_type": "stream",
          "text": [
            "The accuracy of predcition is: 96.67 percent!\n"
          ],
          "name": "stdout"
        }
      ]
    }
  ]
}